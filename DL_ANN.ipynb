{
  "nbformat": 4,
  "nbformat_minor": 0,
  "metadata": {
    "colab": {
      "provenance": [],
      "collapsed_sections": []
    },
    "kernelspec": {
      "name": "python3",
      "display_name": "Python 3"
    },
    "language_info": {
      "name": "python"
    },
    "accelerator": "GPU",
    "gpuClass": "standard"
  },
  "cells": [
    {
      "cell_type": "code",
      "execution_count": 1,
      "metadata": {
        "id": "oUh8i11MvrjQ"
      },
      "outputs": [],
      "source": [
        "import pandas as pd\n",
        "import numpy as np\n",
        "import matplotlib.pyplot as plt\n",
        "import tensorflow as tf"
      ]
    },
    {
      "cell_type": "code",
      "source": [
        "df = pd.read_csv('Churn_Modelling.csv')"
      ],
      "metadata": {
        "id": "e8WinQmRv-Gr"
      },
      "execution_count": 2,
      "outputs": []
    },
    {
      "cell_type": "code",
      "source": [
        "df.head()"
      ],
      "metadata": {
        "colab": {
          "base_uri": "https://localhost:8080/",
          "height": 270
        },
        "id": "QhXnyHGFv-VR",
        "outputId": "06ff73d2-3576-4a92-bdec-2b68dc4ba09a"
      },
      "execution_count": 3,
      "outputs": [
        {
          "output_type": "execute_result",
          "data": {
            "text/plain": [
              "   RowNumber  CustomerId   Surname  CreditScore Geography  Gender  Age  \\\n",
              "0          1    15634602  Hargrave          619    France  Female   42   \n",
              "1          2    15647311      Hill          608     Spain  Female   41   \n",
              "2          3    15619304      Onio          502    France  Female   42   \n",
              "3          4    15701354      Boni          699    France  Female   39   \n",
              "4          5    15737888  Mitchell          850     Spain  Female   43   \n",
              "\n",
              "   Tenure    Balance  NumOfProducts  HasCrCard  IsActiveMember  \\\n",
              "0       2       0.00              1          1               1   \n",
              "1       1   83807.86              1          0               1   \n",
              "2       8  159660.80              3          1               0   \n",
              "3       1       0.00              2          0               0   \n",
              "4       2  125510.82              1          1               1   \n",
              "\n",
              "   EstimatedSalary  Exited  \n",
              "0        101348.88       1  \n",
              "1        112542.58       0  \n",
              "2        113931.57       1  \n",
              "3         93826.63       0  \n",
              "4         79084.10       0  "
            ],
            "text/html": [
              "\n",
              "  <div id=\"df-d8cdfcc8-b5a7-4d93-898a-fa8dbcede0a2\">\n",
              "    <div class=\"colab-df-container\">\n",
              "      <div>\n",
              "<style scoped>\n",
              "    .dataframe tbody tr th:only-of-type {\n",
              "        vertical-align: middle;\n",
              "    }\n",
              "\n",
              "    .dataframe tbody tr th {\n",
              "        vertical-align: top;\n",
              "    }\n",
              "\n",
              "    .dataframe thead th {\n",
              "        text-align: right;\n",
              "    }\n",
              "</style>\n",
              "<table border=\"1\" class=\"dataframe\">\n",
              "  <thead>\n",
              "    <tr style=\"text-align: right;\">\n",
              "      <th></th>\n",
              "      <th>RowNumber</th>\n",
              "      <th>CustomerId</th>\n",
              "      <th>Surname</th>\n",
              "      <th>CreditScore</th>\n",
              "      <th>Geography</th>\n",
              "      <th>Gender</th>\n",
              "      <th>Age</th>\n",
              "      <th>Tenure</th>\n",
              "      <th>Balance</th>\n",
              "      <th>NumOfProducts</th>\n",
              "      <th>HasCrCard</th>\n",
              "      <th>IsActiveMember</th>\n",
              "      <th>EstimatedSalary</th>\n",
              "      <th>Exited</th>\n",
              "    </tr>\n",
              "  </thead>\n",
              "  <tbody>\n",
              "    <tr>\n",
              "      <th>0</th>\n",
              "      <td>1</td>\n",
              "      <td>15634602</td>\n",
              "      <td>Hargrave</td>\n",
              "      <td>619</td>\n",
              "      <td>France</td>\n",
              "      <td>Female</td>\n",
              "      <td>42</td>\n",
              "      <td>2</td>\n",
              "      <td>0.00</td>\n",
              "      <td>1</td>\n",
              "      <td>1</td>\n",
              "      <td>1</td>\n",
              "      <td>101348.88</td>\n",
              "      <td>1</td>\n",
              "    </tr>\n",
              "    <tr>\n",
              "      <th>1</th>\n",
              "      <td>2</td>\n",
              "      <td>15647311</td>\n",
              "      <td>Hill</td>\n",
              "      <td>608</td>\n",
              "      <td>Spain</td>\n",
              "      <td>Female</td>\n",
              "      <td>41</td>\n",
              "      <td>1</td>\n",
              "      <td>83807.86</td>\n",
              "      <td>1</td>\n",
              "      <td>0</td>\n",
              "      <td>1</td>\n",
              "      <td>112542.58</td>\n",
              "      <td>0</td>\n",
              "    </tr>\n",
              "    <tr>\n",
              "      <th>2</th>\n",
              "      <td>3</td>\n",
              "      <td>15619304</td>\n",
              "      <td>Onio</td>\n",
              "      <td>502</td>\n",
              "      <td>France</td>\n",
              "      <td>Female</td>\n",
              "      <td>42</td>\n",
              "      <td>8</td>\n",
              "      <td>159660.80</td>\n",
              "      <td>3</td>\n",
              "      <td>1</td>\n",
              "      <td>0</td>\n",
              "      <td>113931.57</td>\n",
              "      <td>1</td>\n",
              "    </tr>\n",
              "    <tr>\n",
              "      <th>3</th>\n",
              "      <td>4</td>\n",
              "      <td>15701354</td>\n",
              "      <td>Boni</td>\n",
              "      <td>699</td>\n",
              "      <td>France</td>\n",
              "      <td>Female</td>\n",
              "      <td>39</td>\n",
              "      <td>1</td>\n",
              "      <td>0.00</td>\n",
              "      <td>2</td>\n",
              "      <td>0</td>\n",
              "      <td>0</td>\n",
              "      <td>93826.63</td>\n",
              "      <td>0</td>\n",
              "    </tr>\n",
              "    <tr>\n",
              "      <th>4</th>\n",
              "      <td>5</td>\n",
              "      <td>15737888</td>\n",
              "      <td>Mitchell</td>\n",
              "      <td>850</td>\n",
              "      <td>Spain</td>\n",
              "      <td>Female</td>\n",
              "      <td>43</td>\n",
              "      <td>2</td>\n",
              "      <td>125510.82</td>\n",
              "      <td>1</td>\n",
              "      <td>1</td>\n",
              "      <td>1</td>\n",
              "      <td>79084.10</td>\n",
              "      <td>0</td>\n",
              "    </tr>\n",
              "  </tbody>\n",
              "</table>\n",
              "</div>\n",
              "      <button class=\"colab-df-convert\" onclick=\"convertToInteractive('df-d8cdfcc8-b5a7-4d93-898a-fa8dbcede0a2')\"\n",
              "              title=\"Convert this dataframe to an interactive table.\"\n",
              "              style=\"display:none;\">\n",
              "        \n",
              "  <svg xmlns=\"http://www.w3.org/2000/svg\" height=\"24px\"viewBox=\"0 0 24 24\"\n",
              "       width=\"24px\">\n",
              "    <path d=\"M0 0h24v24H0V0z\" fill=\"none\"/>\n",
              "    <path d=\"M18.56 5.44l.94 2.06.94-2.06 2.06-.94-2.06-.94-.94-2.06-.94 2.06-2.06.94zm-11 1L8.5 8.5l.94-2.06 2.06-.94-2.06-.94L8.5 2.5l-.94 2.06-2.06.94zm10 10l.94 2.06.94-2.06 2.06-.94-2.06-.94-.94-2.06-.94 2.06-2.06.94z\"/><path d=\"M17.41 7.96l-1.37-1.37c-.4-.4-.92-.59-1.43-.59-.52 0-1.04.2-1.43.59L10.3 9.45l-7.72 7.72c-.78.78-.78 2.05 0 2.83L4 21.41c.39.39.9.59 1.41.59.51 0 1.02-.2 1.41-.59l7.78-7.78 2.81-2.81c.8-.78.8-2.07 0-2.86zM5.41 20L4 18.59l7.72-7.72 1.47 1.35L5.41 20z\"/>\n",
              "  </svg>\n",
              "      </button>\n",
              "      \n",
              "  <style>\n",
              "    .colab-df-container {\n",
              "      display:flex;\n",
              "      flex-wrap:wrap;\n",
              "      gap: 12px;\n",
              "    }\n",
              "\n",
              "    .colab-df-convert {\n",
              "      background-color: #E8F0FE;\n",
              "      border: none;\n",
              "      border-radius: 50%;\n",
              "      cursor: pointer;\n",
              "      display: none;\n",
              "      fill: #1967D2;\n",
              "      height: 32px;\n",
              "      padding: 0 0 0 0;\n",
              "      width: 32px;\n",
              "    }\n",
              "\n",
              "    .colab-df-convert:hover {\n",
              "      background-color: #E2EBFA;\n",
              "      box-shadow: 0px 1px 2px rgba(60, 64, 67, 0.3), 0px 1px 3px 1px rgba(60, 64, 67, 0.15);\n",
              "      fill: #174EA6;\n",
              "    }\n",
              "\n",
              "    [theme=dark] .colab-df-convert {\n",
              "      background-color: #3B4455;\n",
              "      fill: #D2E3FC;\n",
              "    }\n",
              "\n",
              "    [theme=dark] .colab-df-convert:hover {\n",
              "      background-color: #434B5C;\n",
              "      box-shadow: 0px 1px 3px 1px rgba(0, 0, 0, 0.15);\n",
              "      filter: drop-shadow(0px 1px 2px rgba(0, 0, 0, 0.3));\n",
              "      fill: #FFFFFF;\n",
              "    }\n",
              "  </style>\n",
              "\n",
              "      <script>\n",
              "        const buttonEl =\n",
              "          document.querySelector('#df-d8cdfcc8-b5a7-4d93-898a-fa8dbcede0a2 button.colab-df-convert');\n",
              "        buttonEl.style.display =\n",
              "          google.colab.kernel.accessAllowed ? 'block' : 'none';\n",
              "\n",
              "        async function convertToInteractive(key) {\n",
              "          const element = document.querySelector('#df-d8cdfcc8-b5a7-4d93-898a-fa8dbcede0a2');\n",
              "          const dataTable =\n",
              "            await google.colab.kernel.invokeFunction('convertToInteractive',\n",
              "                                                     [key], {});\n",
              "          if (!dataTable) return;\n",
              "\n",
              "          const docLinkHtml = 'Like what you see? Visit the ' +\n",
              "            '<a target=\"_blank\" href=https://colab.research.google.com/notebooks/data_table.ipynb>data table notebook</a>'\n",
              "            + ' to learn more about interactive tables.';\n",
              "          element.innerHTML = '';\n",
              "          dataTable['output_type'] = 'display_data';\n",
              "          await google.colab.output.renderOutput(dataTable, element);\n",
              "          const docLink = document.createElement('div');\n",
              "          docLink.innerHTML = docLinkHtml;\n",
              "          element.appendChild(docLink);\n",
              "        }\n",
              "      </script>\n",
              "    </div>\n",
              "  </div>\n",
              "  "
            ]
          },
          "metadata": {},
          "execution_count": 3
        }
      ]
    },
    {
      "cell_type": "code",
      "source": [
        "# For Classification Problem target variable will be -Exited"
      ],
      "metadata": {
        "id": "e0u5T0Ey8g5d"
      },
      "execution_count": 4,
      "outputs": []
    },
    {
      "cell_type": "code",
      "source": [
        "## Divide the dataset into independent and dependent features\n",
        "\n",
        "X=df.iloc[:,3:13]\n",
        "y=df.iloc[:,13]"
      ],
      "metadata": {
        "id": "Dsd67iw8v-XA"
      },
      "execution_count": 5,
      "outputs": []
    },
    {
      "cell_type": "code",
      "source": [
        "X.head()"
      ],
      "metadata": {
        "colab": {
          "base_uri": "https://localhost:8080/",
          "height": 206
        },
        "id": "CG6gwg1NoTBQ",
        "outputId": "d22e589f-5235-4315-ee24-3163dba2119b"
      },
      "execution_count": 6,
      "outputs": [
        {
          "output_type": "execute_result",
          "data": {
            "text/plain": [
              "   CreditScore Geography  Gender  Age  Tenure    Balance  NumOfProducts  \\\n",
              "0          619    France  Female   42       2       0.00              1   \n",
              "1          608     Spain  Female   41       1   83807.86              1   \n",
              "2          502    France  Female   42       8  159660.80              3   \n",
              "3          699    France  Female   39       1       0.00              2   \n",
              "4          850     Spain  Female   43       2  125510.82              1   \n",
              "\n",
              "   HasCrCard  IsActiveMember  EstimatedSalary  \n",
              "0          1               1        101348.88  \n",
              "1          0               1        112542.58  \n",
              "2          1               0        113931.57  \n",
              "3          0               0         93826.63  \n",
              "4          1               1         79084.10  "
            ],
            "text/html": [
              "\n",
              "  <div id=\"df-71673725-9bb4-4608-8096-31bf7d98aba7\">\n",
              "    <div class=\"colab-df-container\">\n",
              "      <div>\n",
              "<style scoped>\n",
              "    .dataframe tbody tr th:only-of-type {\n",
              "        vertical-align: middle;\n",
              "    }\n",
              "\n",
              "    .dataframe tbody tr th {\n",
              "        vertical-align: top;\n",
              "    }\n",
              "\n",
              "    .dataframe thead th {\n",
              "        text-align: right;\n",
              "    }\n",
              "</style>\n",
              "<table border=\"1\" class=\"dataframe\">\n",
              "  <thead>\n",
              "    <tr style=\"text-align: right;\">\n",
              "      <th></th>\n",
              "      <th>CreditScore</th>\n",
              "      <th>Geography</th>\n",
              "      <th>Gender</th>\n",
              "      <th>Age</th>\n",
              "      <th>Tenure</th>\n",
              "      <th>Balance</th>\n",
              "      <th>NumOfProducts</th>\n",
              "      <th>HasCrCard</th>\n",
              "      <th>IsActiveMember</th>\n",
              "      <th>EstimatedSalary</th>\n",
              "    </tr>\n",
              "  </thead>\n",
              "  <tbody>\n",
              "    <tr>\n",
              "      <th>0</th>\n",
              "      <td>619</td>\n",
              "      <td>France</td>\n",
              "      <td>Female</td>\n",
              "      <td>42</td>\n",
              "      <td>2</td>\n",
              "      <td>0.00</td>\n",
              "      <td>1</td>\n",
              "      <td>1</td>\n",
              "      <td>1</td>\n",
              "      <td>101348.88</td>\n",
              "    </tr>\n",
              "    <tr>\n",
              "      <th>1</th>\n",
              "      <td>608</td>\n",
              "      <td>Spain</td>\n",
              "      <td>Female</td>\n",
              "      <td>41</td>\n",
              "      <td>1</td>\n",
              "      <td>83807.86</td>\n",
              "      <td>1</td>\n",
              "      <td>0</td>\n",
              "      <td>1</td>\n",
              "      <td>112542.58</td>\n",
              "    </tr>\n",
              "    <tr>\n",
              "      <th>2</th>\n",
              "      <td>502</td>\n",
              "      <td>France</td>\n",
              "      <td>Female</td>\n",
              "      <td>42</td>\n",
              "      <td>8</td>\n",
              "      <td>159660.80</td>\n",
              "      <td>3</td>\n",
              "      <td>1</td>\n",
              "      <td>0</td>\n",
              "      <td>113931.57</td>\n",
              "    </tr>\n",
              "    <tr>\n",
              "      <th>3</th>\n",
              "      <td>699</td>\n",
              "      <td>France</td>\n",
              "      <td>Female</td>\n",
              "      <td>39</td>\n",
              "      <td>1</td>\n",
              "      <td>0.00</td>\n",
              "      <td>2</td>\n",
              "      <td>0</td>\n",
              "      <td>0</td>\n",
              "      <td>93826.63</td>\n",
              "    </tr>\n",
              "    <tr>\n",
              "      <th>4</th>\n",
              "      <td>850</td>\n",
              "      <td>Spain</td>\n",
              "      <td>Female</td>\n",
              "      <td>43</td>\n",
              "      <td>2</td>\n",
              "      <td>125510.82</td>\n",
              "      <td>1</td>\n",
              "      <td>1</td>\n",
              "      <td>1</td>\n",
              "      <td>79084.10</td>\n",
              "    </tr>\n",
              "  </tbody>\n",
              "</table>\n",
              "</div>\n",
              "      <button class=\"colab-df-convert\" onclick=\"convertToInteractive('df-71673725-9bb4-4608-8096-31bf7d98aba7')\"\n",
              "              title=\"Convert this dataframe to an interactive table.\"\n",
              "              style=\"display:none;\">\n",
              "        \n",
              "  <svg xmlns=\"http://www.w3.org/2000/svg\" height=\"24px\"viewBox=\"0 0 24 24\"\n",
              "       width=\"24px\">\n",
              "    <path d=\"M0 0h24v24H0V0z\" fill=\"none\"/>\n",
              "    <path d=\"M18.56 5.44l.94 2.06.94-2.06 2.06-.94-2.06-.94-.94-2.06-.94 2.06-2.06.94zm-11 1L8.5 8.5l.94-2.06 2.06-.94-2.06-.94L8.5 2.5l-.94 2.06-2.06.94zm10 10l.94 2.06.94-2.06 2.06-.94-2.06-.94-.94-2.06-.94 2.06-2.06.94z\"/><path d=\"M17.41 7.96l-1.37-1.37c-.4-.4-.92-.59-1.43-.59-.52 0-1.04.2-1.43.59L10.3 9.45l-7.72 7.72c-.78.78-.78 2.05 0 2.83L4 21.41c.39.39.9.59 1.41.59.51 0 1.02-.2 1.41-.59l7.78-7.78 2.81-2.81c.8-.78.8-2.07 0-2.86zM5.41 20L4 18.59l7.72-7.72 1.47 1.35L5.41 20z\"/>\n",
              "  </svg>\n",
              "      </button>\n",
              "      \n",
              "  <style>\n",
              "    .colab-df-container {\n",
              "      display:flex;\n",
              "      flex-wrap:wrap;\n",
              "      gap: 12px;\n",
              "    }\n",
              "\n",
              "    .colab-df-convert {\n",
              "      background-color: #E8F0FE;\n",
              "      border: none;\n",
              "      border-radius: 50%;\n",
              "      cursor: pointer;\n",
              "      display: none;\n",
              "      fill: #1967D2;\n",
              "      height: 32px;\n",
              "      padding: 0 0 0 0;\n",
              "      width: 32px;\n",
              "    }\n",
              "\n",
              "    .colab-df-convert:hover {\n",
              "      background-color: #E2EBFA;\n",
              "      box-shadow: 0px 1px 2px rgba(60, 64, 67, 0.3), 0px 1px 3px 1px rgba(60, 64, 67, 0.15);\n",
              "      fill: #174EA6;\n",
              "    }\n",
              "\n",
              "    [theme=dark] .colab-df-convert {\n",
              "      background-color: #3B4455;\n",
              "      fill: #D2E3FC;\n",
              "    }\n",
              "\n",
              "    [theme=dark] .colab-df-convert:hover {\n",
              "      background-color: #434B5C;\n",
              "      box-shadow: 0px 1px 3px 1px rgba(0, 0, 0, 0.15);\n",
              "      filter: drop-shadow(0px 1px 2px rgba(0, 0, 0, 0.3));\n",
              "      fill: #FFFFFF;\n",
              "    }\n",
              "  </style>\n",
              "\n",
              "      <script>\n",
              "        const buttonEl =\n",
              "          document.querySelector('#df-71673725-9bb4-4608-8096-31bf7d98aba7 button.colab-df-convert');\n",
              "        buttonEl.style.display =\n",
              "          google.colab.kernel.accessAllowed ? 'block' : 'none';\n",
              "\n",
              "        async function convertToInteractive(key) {\n",
              "          const element = document.querySelector('#df-71673725-9bb4-4608-8096-31bf7d98aba7');\n",
              "          const dataTable =\n",
              "            await google.colab.kernel.invokeFunction('convertToInteractive',\n",
              "                                                     [key], {});\n",
              "          if (!dataTable) return;\n",
              "\n",
              "          const docLinkHtml = 'Like what you see? Visit the ' +\n",
              "            '<a target=\"_blank\" href=https://colab.research.google.com/notebooks/data_table.ipynb>data table notebook</a>'\n",
              "            + ' to learn more about interactive tables.';\n",
              "          element.innerHTML = '';\n",
              "          dataTable['output_type'] = 'display_data';\n",
              "          await google.colab.output.renderOutput(dataTable, element);\n",
              "          const docLink = document.createElement('div');\n",
              "          docLink.innerHTML = docLinkHtml;\n",
              "          element.appendChild(docLink);\n",
              "        }\n",
              "      </script>\n",
              "    </div>\n",
              "  </div>\n",
              "  "
            ]
          },
          "metadata": {},
          "execution_count": 6
        }
      ]
    },
    {
      "cell_type": "code",
      "source": [
        "## feature Engineering (Categorical features: Ohe)\n",
        "geography = pd.get_dummies(X['Geography'],drop_first= True)\n",
        "gender = pd.get_dummies(X['Gender'],drop_first= True)\n"
      ],
      "metadata": {
        "id": "rinl78umv-aE"
      },
      "execution_count": 7,
      "outputs": []
    },
    {
      "cell_type": "code",
      "source": [
        "X = X.drop([\"Geography\",\"Gender\"],axis=1)"
      ],
      "metadata": {
        "id": "tT8x-OCpv-c3"
      },
      "execution_count": 8,
      "outputs": []
    },
    {
      "cell_type": "code",
      "source": [
        "X.head()"
      ],
      "metadata": {
        "id": "3KJEL77Pv-ex",
        "colab": {
          "base_uri": "https://localhost:8080/",
          "height": 206
        },
        "outputId": "3b0cb4f7-8896-4a67-e5f4-a0fde41fe601"
      },
      "execution_count": 9,
      "outputs": [
        {
          "output_type": "execute_result",
          "data": {
            "text/plain": [
              "   CreditScore  Age  Tenure    Balance  NumOfProducts  HasCrCard  \\\n",
              "0          619   42       2       0.00              1          1   \n",
              "1          608   41       1   83807.86              1          0   \n",
              "2          502   42       8  159660.80              3          1   \n",
              "3          699   39       1       0.00              2          0   \n",
              "4          850   43       2  125510.82              1          1   \n",
              "\n",
              "   IsActiveMember  EstimatedSalary  \n",
              "0               1        101348.88  \n",
              "1               1        112542.58  \n",
              "2               0        113931.57  \n",
              "3               0         93826.63  \n",
              "4               1         79084.10  "
            ],
            "text/html": [
              "\n",
              "  <div id=\"df-b1002a8b-fffb-4cd9-9bbc-b08b9aa77576\">\n",
              "    <div class=\"colab-df-container\">\n",
              "      <div>\n",
              "<style scoped>\n",
              "    .dataframe tbody tr th:only-of-type {\n",
              "        vertical-align: middle;\n",
              "    }\n",
              "\n",
              "    .dataframe tbody tr th {\n",
              "        vertical-align: top;\n",
              "    }\n",
              "\n",
              "    .dataframe thead th {\n",
              "        text-align: right;\n",
              "    }\n",
              "</style>\n",
              "<table border=\"1\" class=\"dataframe\">\n",
              "  <thead>\n",
              "    <tr style=\"text-align: right;\">\n",
              "      <th></th>\n",
              "      <th>CreditScore</th>\n",
              "      <th>Age</th>\n",
              "      <th>Tenure</th>\n",
              "      <th>Balance</th>\n",
              "      <th>NumOfProducts</th>\n",
              "      <th>HasCrCard</th>\n",
              "      <th>IsActiveMember</th>\n",
              "      <th>EstimatedSalary</th>\n",
              "    </tr>\n",
              "  </thead>\n",
              "  <tbody>\n",
              "    <tr>\n",
              "      <th>0</th>\n",
              "      <td>619</td>\n",
              "      <td>42</td>\n",
              "      <td>2</td>\n",
              "      <td>0.00</td>\n",
              "      <td>1</td>\n",
              "      <td>1</td>\n",
              "      <td>1</td>\n",
              "      <td>101348.88</td>\n",
              "    </tr>\n",
              "    <tr>\n",
              "      <th>1</th>\n",
              "      <td>608</td>\n",
              "      <td>41</td>\n",
              "      <td>1</td>\n",
              "      <td>83807.86</td>\n",
              "      <td>1</td>\n",
              "      <td>0</td>\n",
              "      <td>1</td>\n",
              "      <td>112542.58</td>\n",
              "    </tr>\n",
              "    <tr>\n",
              "      <th>2</th>\n",
              "      <td>502</td>\n",
              "      <td>42</td>\n",
              "      <td>8</td>\n",
              "      <td>159660.80</td>\n",
              "      <td>3</td>\n",
              "      <td>1</td>\n",
              "      <td>0</td>\n",
              "      <td>113931.57</td>\n",
              "    </tr>\n",
              "    <tr>\n",
              "      <th>3</th>\n",
              "      <td>699</td>\n",
              "      <td>39</td>\n",
              "      <td>1</td>\n",
              "      <td>0.00</td>\n",
              "      <td>2</td>\n",
              "      <td>0</td>\n",
              "      <td>0</td>\n",
              "      <td>93826.63</td>\n",
              "    </tr>\n",
              "    <tr>\n",
              "      <th>4</th>\n",
              "      <td>850</td>\n",
              "      <td>43</td>\n",
              "      <td>2</td>\n",
              "      <td>125510.82</td>\n",
              "      <td>1</td>\n",
              "      <td>1</td>\n",
              "      <td>1</td>\n",
              "      <td>79084.10</td>\n",
              "    </tr>\n",
              "  </tbody>\n",
              "</table>\n",
              "</div>\n",
              "      <button class=\"colab-df-convert\" onclick=\"convertToInteractive('df-b1002a8b-fffb-4cd9-9bbc-b08b9aa77576')\"\n",
              "              title=\"Convert this dataframe to an interactive table.\"\n",
              "              style=\"display:none;\">\n",
              "        \n",
              "  <svg xmlns=\"http://www.w3.org/2000/svg\" height=\"24px\"viewBox=\"0 0 24 24\"\n",
              "       width=\"24px\">\n",
              "    <path d=\"M0 0h24v24H0V0z\" fill=\"none\"/>\n",
              "    <path d=\"M18.56 5.44l.94 2.06.94-2.06 2.06-.94-2.06-.94-.94-2.06-.94 2.06-2.06.94zm-11 1L8.5 8.5l.94-2.06 2.06-.94-2.06-.94L8.5 2.5l-.94 2.06-2.06.94zm10 10l.94 2.06.94-2.06 2.06-.94-2.06-.94-.94-2.06-.94 2.06-2.06.94z\"/><path d=\"M17.41 7.96l-1.37-1.37c-.4-.4-.92-.59-1.43-.59-.52 0-1.04.2-1.43.59L10.3 9.45l-7.72 7.72c-.78.78-.78 2.05 0 2.83L4 21.41c.39.39.9.59 1.41.59.51 0 1.02-.2 1.41-.59l7.78-7.78 2.81-2.81c.8-.78.8-2.07 0-2.86zM5.41 20L4 18.59l7.72-7.72 1.47 1.35L5.41 20z\"/>\n",
              "  </svg>\n",
              "      </button>\n",
              "      \n",
              "  <style>\n",
              "    .colab-df-container {\n",
              "      display:flex;\n",
              "      flex-wrap:wrap;\n",
              "      gap: 12px;\n",
              "    }\n",
              "\n",
              "    .colab-df-convert {\n",
              "      background-color: #E8F0FE;\n",
              "      border: none;\n",
              "      border-radius: 50%;\n",
              "      cursor: pointer;\n",
              "      display: none;\n",
              "      fill: #1967D2;\n",
              "      height: 32px;\n",
              "      padding: 0 0 0 0;\n",
              "      width: 32px;\n",
              "    }\n",
              "\n",
              "    .colab-df-convert:hover {\n",
              "      background-color: #E2EBFA;\n",
              "      box-shadow: 0px 1px 2px rgba(60, 64, 67, 0.3), 0px 1px 3px 1px rgba(60, 64, 67, 0.15);\n",
              "      fill: #174EA6;\n",
              "    }\n",
              "\n",
              "    [theme=dark] .colab-df-convert {\n",
              "      background-color: #3B4455;\n",
              "      fill: #D2E3FC;\n",
              "    }\n",
              "\n",
              "    [theme=dark] .colab-df-convert:hover {\n",
              "      background-color: #434B5C;\n",
              "      box-shadow: 0px 1px 3px 1px rgba(0, 0, 0, 0.15);\n",
              "      filter: drop-shadow(0px 1px 2px rgba(0, 0, 0, 0.3));\n",
              "      fill: #FFFFFF;\n",
              "    }\n",
              "  </style>\n",
              "\n",
              "      <script>\n",
              "        const buttonEl =\n",
              "          document.querySelector('#df-b1002a8b-fffb-4cd9-9bbc-b08b9aa77576 button.colab-df-convert');\n",
              "        buttonEl.style.display =\n",
              "          google.colab.kernel.accessAllowed ? 'block' : 'none';\n",
              "\n",
              "        async function convertToInteractive(key) {\n",
              "          const element = document.querySelector('#df-b1002a8b-fffb-4cd9-9bbc-b08b9aa77576');\n",
              "          const dataTable =\n",
              "            await google.colab.kernel.invokeFunction('convertToInteractive',\n",
              "                                                     [key], {});\n",
              "          if (!dataTable) return;\n",
              "\n",
              "          const docLinkHtml = 'Like what you see? Visit the ' +\n",
              "            '<a target=\"_blank\" href=https://colab.research.google.com/notebooks/data_table.ipynb>data table notebook</a>'\n",
              "            + ' to learn more about interactive tables.';\n",
              "          element.innerHTML = '';\n",
              "          dataTable['output_type'] = 'display_data';\n",
              "          await google.colab.output.renderOutput(dataTable, element);\n",
              "          const docLink = document.createElement('div');\n",
              "          docLink.innerHTML = docLinkHtml;\n",
              "          element.appendChild(docLink);\n",
              "        }\n",
              "      </script>\n",
              "    </div>\n",
              "  </div>\n",
              "  "
            ]
          },
          "metadata": {},
          "execution_count": 9
        }
      ]
    },
    {
      "cell_type": "code",
      "source": [
        "X=pd.concat([X,geography,gender],axis=1)"
      ],
      "metadata": {
        "id": "WzxVCDikq0Db"
      },
      "execution_count": 10,
      "outputs": []
    },
    {
      "cell_type": "code",
      "source": [
        "X.head()"
      ],
      "metadata": {
        "colab": {
          "base_uri": "https://localhost:8080/",
          "height": 206
        },
        "id": "Ox-qNX7mrHNR",
        "outputId": "cab56cd7-89b7-41cd-9def-82897f339b0a"
      },
      "execution_count": 11,
      "outputs": [
        {
          "output_type": "execute_result",
          "data": {
            "text/plain": [
              "   CreditScore  Age  Tenure    Balance  NumOfProducts  HasCrCard  \\\n",
              "0          619   42       2       0.00              1          1   \n",
              "1          608   41       1   83807.86              1          0   \n",
              "2          502   42       8  159660.80              3          1   \n",
              "3          699   39       1       0.00              2          0   \n",
              "4          850   43       2  125510.82              1          1   \n",
              "\n",
              "   IsActiveMember  EstimatedSalary  Germany  Spain  Male  \n",
              "0               1        101348.88        0      0     0  \n",
              "1               1        112542.58        0      1     0  \n",
              "2               0        113931.57        0      0     0  \n",
              "3               0         93826.63        0      0     0  \n",
              "4               1         79084.10        0      1     0  "
            ],
            "text/html": [
              "\n",
              "  <div id=\"df-1d5673dd-ca87-440c-9cc6-ca521f82072c\">\n",
              "    <div class=\"colab-df-container\">\n",
              "      <div>\n",
              "<style scoped>\n",
              "    .dataframe tbody tr th:only-of-type {\n",
              "        vertical-align: middle;\n",
              "    }\n",
              "\n",
              "    .dataframe tbody tr th {\n",
              "        vertical-align: top;\n",
              "    }\n",
              "\n",
              "    .dataframe thead th {\n",
              "        text-align: right;\n",
              "    }\n",
              "</style>\n",
              "<table border=\"1\" class=\"dataframe\">\n",
              "  <thead>\n",
              "    <tr style=\"text-align: right;\">\n",
              "      <th></th>\n",
              "      <th>CreditScore</th>\n",
              "      <th>Age</th>\n",
              "      <th>Tenure</th>\n",
              "      <th>Balance</th>\n",
              "      <th>NumOfProducts</th>\n",
              "      <th>HasCrCard</th>\n",
              "      <th>IsActiveMember</th>\n",
              "      <th>EstimatedSalary</th>\n",
              "      <th>Germany</th>\n",
              "      <th>Spain</th>\n",
              "      <th>Male</th>\n",
              "    </tr>\n",
              "  </thead>\n",
              "  <tbody>\n",
              "    <tr>\n",
              "      <th>0</th>\n",
              "      <td>619</td>\n",
              "      <td>42</td>\n",
              "      <td>2</td>\n",
              "      <td>0.00</td>\n",
              "      <td>1</td>\n",
              "      <td>1</td>\n",
              "      <td>1</td>\n",
              "      <td>101348.88</td>\n",
              "      <td>0</td>\n",
              "      <td>0</td>\n",
              "      <td>0</td>\n",
              "    </tr>\n",
              "    <tr>\n",
              "      <th>1</th>\n",
              "      <td>608</td>\n",
              "      <td>41</td>\n",
              "      <td>1</td>\n",
              "      <td>83807.86</td>\n",
              "      <td>1</td>\n",
              "      <td>0</td>\n",
              "      <td>1</td>\n",
              "      <td>112542.58</td>\n",
              "      <td>0</td>\n",
              "      <td>1</td>\n",
              "      <td>0</td>\n",
              "    </tr>\n",
              "    <tr>\n",
              "      <th>2</th>\n",
              "      <td>502</td>\n",
              "      <td>42</td>\n",
              "      <td>8</td>\n",
              "      <td>159660.80</td>\n",
              "      <td>3</td>\n",
              "      <td>1</td>\n",
              "      <td>0</td>\n",
              "      <td>113931.57</td>\n",
              "      <td>0</td>\n",
              "      <td>0</td>\n",
              "      <td>0</td>\n",
              "    </tr>\n",
              "    <tr>\n",
              "      <th>3</th>\n",
              "      <td>699</td>\n",
              "      <td>39</td>\n",
              "      <td>1</td>\n",
              "      <td>0.00</td>\n",
              "      <td>2</td>\n",
              "      <td>0</td>\n",
              "      <td>0</td>\n",
              "      <td>93826.63</td>\n",
              "      <td>0</td>\n",
              "      <td>0</td>\n",
              "      <td>0</td>\n",
              "    </tr>\n",
              "    <tr>\n",
              "      <th>4</th>\n",
              "      <td>850</td>\n",
              "      <td>43</td>\n",
              "      <td>2</td>\n",
              "      <td>125510.82</td>\n",
              "      <td>1</td>\n",
              "      <td>1</td>\n",
              "      <td>1</td>\n",
              "      <td>79084.10</td>\n",
              "      <td>0</td>\n",
              "      <td>1</td>\n",
              "      <td>0</td>\n",
              "    </tr>\n",
              "  </tbody>\n",
              "</table>\n",
              "</div>\n",
              "      <button class=\"colab-df-convert\" onclick=\"convertToInteractive('df-1d5673dd-ca87-440c-9cc6-ca521f82072c')\"\n",
              "              title=\"Convert this dataframe to an interactive table.\"\n",
              "              style=\"display:none;\">\n",
              "        \n",
              "  <svg xmlns=\"http://www.w3.org/2000/svg\" height=\"24px\"viewBox=\"0 0 24 24\"\n",
              "       width=\"24px\">\n",
              "    <path d=\"M0 0h24v24H0V0z\" fill=\"none\"/>\n",
              "    <path d=\"M18.56 5.44l.94 2.06.94-2.06 2.06-.94-2.06-.94-.94-2.06-.94 2.06-2.06.94zm-11 1L8.5 8.5l.94-2.06 2.06-.94-2.06-.94L8.5 2.5l-.94 2.06-2.06.94zm10 10l.94 2.06.94-2.06 2.06-.94-2.06-.94-.94-2.06-.94 2.06-2.06.94z\"/><path d=\"M17.41 7.96l-1.37-1.37c-.4-.4-.92-.59-1.43-.59-.52 0-1.04.2-1.43.59L10.3 9.45l-7.72 7.72c-.78.78-.78 2.05 0 2.83L4 21.41c.39.39.9.59 1.41.59.51 0 1.02-.2 1.41-.59l7.78-7.78 2.81-2.81c.8-.78.8-2.07 0-2.86zM5.41 20L4 18.59l7.72-7.72 1.47 1.35L5.41 20z\"/>\n",
              "  </svg>\n",
              "      </button>\n",
              "      \n",
              "  <style>\n",
              "    .colab-df-container {\n",
              "      display:flex;\n",
              "      flex-wrap:wrap;\n",
              "      gap: 12px;\n",
              "    }\n",
              "\n",
              "    .colab-df-convert {\n",
              "      background-color: #E8F0FE;\n",
              "      border: none;\n",
              "      border-radius: 50%;\n",
              "      cursor: pointer;\n",
              "      display: none;\n",
              "      fill: #1967D2;\n",
              "      height: 32px;\n",
              "      padding: 0 0 0 0;\n",
              "      width: 32px;\n",
              "    }\n",
              "\n",
              "    .colab-df-convert:hover {\n",
              "      background-color: #E2EBFA;\n",
              "      box-shadow: 0px 1px 2px rgba(60, 64, 67, 0.3), 0px 1px 3px 1px rgba(60, 64, 67, 0.15);\n",
              "      fill: #174EA6;\n",
              "    }\n",
              "\n",
              "    [theme=dark] .colab-df-convert {\n",
              "      background-color: #3B4455;\n",
              "      fill: #D2E3FC;\n",
              "    }\n",
              "\n",
              "    [theme=dark] .colab-df-convert:hover {\n",
              "      background-color: #434B5C;\n",
              "      box-shadow: 0px 1px 3px 1px rgba(0, 0, 0, 0.15);\n",
              "      filter: drop-shadow(0px 1px 2px rgba(0, 0, 0, 0.3));\n",
              "      fill: #FFFFFF;\n",
              "    }\n",
              "  </style>\n",
              "\n",
              "      <script>\n",
              "        const buttonEl =\n",
              "          document.querySelector('#df-1d5673dd-ca87-440c-9cc6-ca521f82072c button.colab-df-convert');\n",
              "        buttonEl.style.display =\n",
              "          google.colab.kernel.accessAllowed ? 'block' : 'none';\n",
              "\n",
              "        async function convertToInteractive(key) {\n",
              "          const element = document.querySelector('#df-1d5673dd-ca87-440c-9cc6-ca521f82072c');\n",
              "          const dataTable =\n",
              "            await google.colab.kernel.invokeFunction('convertToInteractive',\n",
              "                                                     [key], {});\n",
              "          if (!dataTable) return;\n",
              "\n",
              "          const docLinkHtml = 'Like what you see? Visit the ' +\n",
              "            '<a target=\"_blank\" href=https://colab.research.google.com/notebooks/data_table.ipynb>data table notebook</a>'\n",
              "            + ' to learn more about interactive tables.';\n",
              "          element.innerHTML = '';\n",
              "          dataTable['output_type'] = 'display_data';\n",
              "          await google.colab.output.renderOutput(dataTable, element);\n",
              "          const docLink = document.createElement('div');\n",
              "          docLink.innerHTML = docLinkHtml;\n",
              "          element.appendChild(docLink);\n",
              "        }\n",
              "      </script>\n",
              "    </div>\n",
              "  </div>\n",
              "  "
            ]
          },
          "metadata": {},
          "execution_count": 11
        }
      ]
    },
    {
      "cell_type": "code",
      "source": [
        "#Splitting into the train test split\n",
        "from sklearn.model_selection import train_test_split\n",
        "\n",
        "X_train,X_test,y_train,y_test=train_test_split(X,y,test_size=0.3)"
      ],
      "metadata": {
        "id": "nswu7LkMrJw9"
      },
      "execution_count": 12,
      "outputs": []
    },
    {
      "cell_type": "code",
      "source": [
        "#feature scaling\n",
        "from sklearn.preprocessing import StandardScaler\n",
        "sc=StandardScaler()\n",
        "X_train = sc.fit_transform(X_train)\n",
        "X_test=sc.transform (X_test)"
      ],
      "metadata": {
        "id": "joWpFhKOsL5e"
      },
      "execution_count": 13,
      "outputs": []
    },
    {
      "cell_type": "code",
      "source": [
        "X_train"
      ],
      "metadata": {
        "colab": {
          "base_uri": "https://localhost:8080/"
        },
        "id": "eKwag-sXs4dK",
        "outputId": "36c05e02-1b9d-48c6-9171-882da45ebff6"
      },
      "execution_count": 14,
      "outputs": [
        {
          "output_type": "execute_result",
          "data": {
            "text/plain": [
              "array([[ 1.5152216 , -0.18180427, -1.05172678, ...,  1.73007358,\n",
              "        -0.57031183,  0.90453403],\n",
              "       [ 1.99393125, -0.75527625, -1.05172678, ..., -0.5780101 ,\n",
              "        -0.57031183,  0.90453403],\n",
              "       [ 2.08759183,  2.30324097,  1.01463074, ..., -0.5780101 ,\n",
              "        -0.57031183,  0.90453403],\n",
              "       ...,\n",
              "       [ 0.3600744 ,  1.63419033,  1.01463074, ..., -0.5780101 ,\n",
              "         1.75342671,  0.90453403],\n",
              "       [ 1.54644179, -1.61548422,  1.01463074, ..., -0.5780101 ,\n",
              "        -0.57031183,  0.90453403],\n",
              "       [-1.69005172,  0.10493172,  0.3258449 , ..., -0.5780101 ,\n",
              "         1.75342671, -1.1055416 ]])"
            ]
          },
          "metadata": {},
          "execution_count": 14
        }
      ]
    },
    {
      "cell_type": "code",
      "source": [
        "X_train.shape"
      ],
      "metadata": {
        "colab": {
          "base_uri": "https://localhost:8080/"
        },
        "id": "VfW43LNvvH2r",
        "outputId": "e685e7b2-32d9-4d5d-b912-172dfb2e3e24"
      },
      "execution_count": 15,
      "outputs": [
        {
          "output_type": "execute_result",
          "data": {
            "text/plain": [
              "(7000, 11)"
            ]
          },
          "metadata": {},
          "execution_count": 15
        }
      ]
    },
    {
      "cell_type": "code",
      "source": [
        "#Strating With ANN part---\n",
        "from tensorflow.keras.models import Sequential\n",
        "from tensorflow.keras.layers import Dense\n",
        "from tensorflow.keras.layers import LeakyReLU,PReLU,ELU,ReLU\n",
        "from tensorflow.keras.layers import Dropout"
      ],
      "metadata": {
        "id": "4nc_kzi2vd3C"
      },
      "execution_count": 16,
      "outputs": []
    },
    {
      "cell_type": "code",
      "source": [
        "### Lets initialize the ANN\n",
        "classifier=Sequential()"
      ],
      "metadata": {
        "id": "1J_LL0P92JoY"
      },
      "execution_count": 17,
      "outputs": []
    },
    {
      "cell_type": "code",
      "source": [
        "## Adding the input Layer and first hidden layer\n",
        "classifier.add(Dense(10,input_shape=(11,),activation='relu'))"
      ],
      "metadata": {
        "id": "V9PQzduM2MAY"
      },
      "execution_count": 18,
      "outputs": []
    },
    {
      "cell_type": "code",
      "source": [
        "# adding the first hidden layer\n",
        "classifier.add(Dense(units=10,activation='relu'))\n",
        "#classifier.add(Dropout(0.2))"
      ],
      "metadata": {
        "id": "uy77v7uE2Py7"
      },
      "execution_count": 19,
      "outputs": []
    },
    {
      "cell_type": "code",
      "source": [
        "##adding the second hidden layer\n",
        "classifier.add(Dense(units=10,activation='relu'))\n",
        "#classifier.add(Dropout(0.3))"
      ],
      "metadata": {
        "id": "EdZ-km952WLk"
      },
      "execution_count": 20,
      "outputs": []
    },
    {
      "cell_type": "code",
      "source": [
        "##  Adding the output layer\n",
        "classifier.add(Dense(1,activation='sigmoid'))"
      ],
      "metadata": {
        "id": "lWRcI-I_2ZGr"
      },
      "execution_count": 21,
      "outputs": []
    },
    {
      "cell_type": "code",
      "source": [
        "classifier.summary()"
      ],
      "metadata": {
        "colab": {
          "base_uri": "https://localhost:8080/"
        },
        "id": "YBr0IYPo2bnv",
        "outputId": "4a7d3a7a-cd3b-4425-f15b-e9a8d490b7a0"
      },
      "execution_count": 22,
      "outputs": [
        {
          "output_type": "stream",
          "name": "stdout",
          "text": [
            "Model: \"sequential\"\n",
            "_________________________________________________________________\n",
            " Layer (type)                Output Shape              Param #   \n",
            "=================================================================\n",
            " dense (Dense)               (None, 10)                120       \n",
            "                                                                 \n",
            " dense_1 (Dense)             (None, 10)                110       \n",
            "                                                                 \n",
            " dense_2 (Dense)             (None, 10)                110       \n",
            "                                                                 \n",
            " dense_3 (Dense)             (None, 1)                 11        \n",
            "                                                                 \n",
            "=================================================================\n",
            "Total params: 351\n",
            "Trainable params: 351\n",
            "Non-trainable params: 0\n",
            "_________________________________________________________________\n"
          ]
        }
      ]
    },
    {
      "cell_type": "code",
      "source": [
        "import tensorflow\n",
        "opt= tensorflow.keras.optimizers.Adam(learning_rate=0.01)"
      ],
      "metadata": {
        "id": "ET7Xy7a12ec4"
      },
      "execution_count": 23,
      "outputs": []
    },
    {
      "cell_type": "code",
      "source": [
        "classifier.compile(optimizer=opt,loss='binary_crossentropy',metrics=['accuracy'])\n"
      ],
      "metadata": {
        "id": "BA4xsM1h3FBI"
      },
      "execution_count": 24,
      "outputs": []
    },
    {
      "cell_type": "code",
      "source": [
        "## Early Stopping\n",
        "import tensorflow as tf\n",
        "early_stopping=tf.keras.callbacks.EarlyStopping(\n",
        "    monitor=\"val_loss\",\n",
        "    min_delta=0.0001,\n",
        "    patience=20,\n",
        "    verbose=1,\n",
        "    mode='auto',\n",
        "    baseline=None,\n",
        "    restore_best_weights = False\n",
        ")"
      ],
      "metadata": {
        "id": "0DHPMbi-3cSz"
      },
      "execution_count": 25,
      "outputs": []
    },
    {
      "cell_type": "code",
      "source": [
        "model_history=classifier.fit(X_train,y_train,validation_data=(X_test,y_test),batch_size=10,epochs=100,callbacks=early_stopping)"
      ],
      "metadata": {
        "colab": {
          "base_uri": "https://localhost:8080/"
        },
        "id": "hi7ut3Za3cV6",
        "outputId": "1cad9af0-75f6-4e21-9694-172da8d331e3"
      },
      "execution_count": 26,
      "outputs": [
        {
          "output_type": "stream",
          "name": "stdout",
          "text": [
            "Epoch 1/100\n",
            "700/700 [==============================] - 6s 3ms/step - loss: 0.4023 - accuracy: 0.8283 - val_loss: 0.4021 - val_accuracy: 0.8383\n",
            "Epoch 2/100\n",
            "700/700 [==============================] - 2s 3ms/step - loss: 0.3575 - accuracy: 0.8543 - val_loss: 0.3740 - val_accuracy: 0.8477\n",
            "Epoch 3/100\n",
            "700/700 [==============================] - 2s 3ms/step - loss: 0.3542 - accuracy: 0.8566 - val_loss: 0.3759 - val_accuracy: 0.8447\n",
            "Epoch 4/100\n",
            "700/700 [==============================] - 2s 3ms/step - loss: 0.3482 - accuracy: 0.8579 - val_loss: 0.3716 - val_accuracy: 0.8427\n",
            "Epoch 5/100\n",
            "700/700 [==============================] - 2s 3ms/step - loss: 0.3471 - accuracy: 0.8571 - val_loss: 0.3762 - val_accuracy: 0.8507\n",
            "Epoch 6/100\n",
            "700/700 [==============================] - 2s 3ms/step - loss: 0.3464 - accuracy: 0.8584 - val_loss: 0.3672 - val_accuracy: 0.8510\n",
            "Epoch 7/100\n",
            "700/700 [==============================] - 2s 3ms/step - loss: 0.3436 - accuracy: 0.8593 - val_loss: 0.3658 - val_accuracy: 0.8527\n",
            "Epoch 8/100\n",
            "700/700 [==============================] - 2s 3ms/step - loss: 0.3418 - accuracy: 0.8589 - val_loss: 0.3696 - val_accuracy: 0.8517\n",
            "Epoch 9/100\n",
            "700/700 [==============================] - 2s 3ms/step - loss: 0.3409 - accuracy: 0.8593 - val_loss: 0.3740 - val_accuracy: 0.8497\n",
            "Epoch 10/100\n",
            "700/700 [==============================] - 2s 3ms/step - loss: 0.3376 - accuracy: 0.8616 - val_loss: 0.3681 - val_accuracy: 0.8480\n",
            "Epoch 11/100\n",
            "700/700 [==============================] - 2s 3ms/step - loss: 0.3385 - accuracy: 0.8604 - val_loss: 0.3650 - val_accuracy: 0.8527\n",
            "Epoch 12/100\n",
            "700/700 [==============================] - 2s 3ms/step - loss: 0.3374 - accuracy: 0.8610 - val_loss: 0.3732 - val_accuracy: 0.8487\n",
            "Epoch 13/100\n",
            "700/700 [==============================] - 2s 3ms/step - loss: 0.3368 - accuracy: 0.8611 - val_loss: 0.3622 - val_accuracy: 0.8537\n",
            "Epoch 14/100\n",
            "700/700 [==============================] - 2s 3ms/step - loss: 0.3355 - accuracy: 0.8609 - val_loss: 0.3596 - val_accuracy: 0.8543\n",
            "Epoch 15/100\n",
            "700/700 [==============================] - 2s 3ms/step - loss: 0.3353 - accuracy: 0.8633 - val_loss: 0.3614 - val_accuracy: 0.8547\n",
            "Epoch 16/100\n",
            "700/700 [==============================] - 2s 3ms/step - loss: 0.3344 - accuracy: 0.8626 - val_loss: 0.3692 - val_accuracy: 0.8480\n",
            "Epoch 17/100\n",
            "700/700 [==============================] - 2s 3ms/step - loss: 0.3323 - accuracy: 0.8653 - val_loss: 0.3604 - val_accuracy: 0.8573\n",
            "Epoch 18/100\n",
            "700/700 [==============================] - 2s 3ms/step - loss: 0.3313 - accuracy: 0.8603 - val_loss: 0.3796 - val_accuracy: 0.8483\n",
            "Epoch 19/100\n",
            "700/700 [==============================] - 2s 3ms/step - loss: 0.3317 - accuracy: 0.8623 - val_loss: 0.3653 - val_accuracy: 0.8530\n",
            "Epoch 20/100\n",
            "700/700 [==============================] - 2s 3ms/step - loss: 0.3294 - accuracy: 0.8636 - val_loss: 0.3717 - val_accuracy: 0.8527\n",
            "Epoch 21/100\n",
            "700/700 [==============================] - 2s 3ms/step - loss: 0.3292 - accuracy: 0.8659 - val_loss: 0.3595 - val_accuracy: 0.8527\n",
            "Epoch 22/100\n",
            "700/700 [==============================] - 2s 3ms/step - loss: 0.3269 - accuracy: 0.8677 - val_loss: 0.3690 - val_accuracy: 0.8483\n",
            "Epoch 23/100\n",
            "700/700 [==============================] - 2s 3ms/step - loss: 0.3287 - accuracy: 0.8651 - val_loss: 0.3578 - val_accuracy: 0.8557\n",
            "Epoch 24/100\n",
            "700/700 [==============================] - 2s 3ms/step - loss: 0.3281 - accuracy: 0.8639 - val_loss: 0.3573 - val_accuracy: 0.8567\n",
            "Epoch 25/100\n",
            "700/700 [==============================] - 2s 3ms/step - loss: 0.3289 - accuracy: 0.8636 - val_loss: 0.3635 - val_accuracy: 0.8543\n",
            "Epoch 26/100\n",
            "700/700 [==============================] - 2s 3ms/step - loss: 0.3263 - accuracy: 0.8699 - val_loss: 0.3672 - val_accuracy: 0.8573\n",
            "Epoch 27/100\n",
            "700/700 [==============================] - 2s 3ms/step - loss: 0.3242 - accuracy: 0.8657 - val_loss: 0.3779 - val_accuracy: 0.8543\n",
            "Epoch 28/100\n",
            "700/700 [==============================] - 2s 3ms/step - loss: 0.3260 - accuracy: 0.8647 - val_loss: 0.3614 - val_accuracy: 0.8587\n",
            "Epoch 29/100\n",
            "700/700 [==============================] - 2s 3ms/step - loss: 0.3250 - accuracy: 0.8659 - val_loss: 0.3612 - val_accuracy: 0.8523\n",
            "Epoch 30/100\n",
            "700/700 [==============================] - 2s 3ms/step - loss: 0.3253 - accuracy: 0.8653 - val_loss: 0.3683 - val_accuracy: 0.8510\n",
            "Epoch 31/100\n",
            "700/700 [==============================] - 2s 3ms/step - loss: 0.3224 - accuracy: 0.8667 - val_loss: 0.3601 - val_accuracy: 0.8550\n",
            "Epoch 32/100\n",
            "700/700 [==============================] - 2s 3ms/step - loss: 0.3237 - accuracy: 0.8661 - val_loss: 0.3682 - val_accuracy: 0.8527\n",
            "Epoch 33/100\n",
            "700/700 [==============================] - 2s 3ms/step - loss: 0.3223 - accuracy: 0.8664 - val_loss: 0.3631 - val_accuracy: 0.8550\n",
            "Epoch 34/100\n",
            "700/700 [==============================] - 2s 3ms/step - loss: 0.3245 - accuracy: 0.8663 - val_loss: 0.3676 - val_accuracy: 0.8533\n",
            "Epoch 35/100\n",
            "700/700 [==============================] - 2s 3ms/step - loss: 0.3218 - accuracy: 0.8663 - val_loss: 0.3634 - val_accuracy: 0.8560\n",
            "Epoch 36/100\n",
            "700/700 [==============================] - 2s 3ms/step - loss: 0.3234 - accuracy: 0.8653 - val_loss: 0.3713 - val_accuracy: 0.8497\n",
            "Epoch 37/100\n",
            "700/700 [==============================] - 2s 3ms/step - loss: 0.3219 - accuracy: 0.8636 - val_loss: 0.3644 - val_accuracy: 0.8540\n",
            "Epoch 38/100\n",
            "700/700 [==============================] - 2s 3ms/step - loss: 0.3230 - accuracy: 0.8664 - val_loss: 0.3588 - val_accuracy: 0.8517\n",
            "Epoch 39/100\n",
            "700/700 [==============================] - 2s 3ms/step - loss: 0.3205 - accuracy: 0.8681 - val_loss: 0.3714 - val_accuracy: 0.8527\n",
            "Epoch 40/100\n",
            "700/700 [==============================] - 2s 3ms/step - loss: 0.3198 - accuracy: 0.8686 - val_loss: 0.3638 - val_accuracy: 0.8550\n",
            "Epoch 41/100\n",
            "700/700 [==============================] - 2s 3ms/step - loss: 0.3201 - accuracy: 0.8679 - val_loss: 0.3649 - val_accuracy: 0.8533\n",
            "Epoch 42/100\n",
            "700/700 [==============================] - 2s 3ms/step - loss: 0.3182 - accuracy: 0.8687 - val_loss: 0.3617 - val_accuracy: 0.8560\n",
            "Epoch 43/100\n",
            "700/700 [==============================] - 2s 3ms/step - loss: 0.3182 - accuracy: 0.8681 - val_loss: 0.3575 - val_accuracy: 0.8567\n",
            "Epoch 44/100\n",
            "700/700 [==============================] - 3s 4ms/step - loss: 0.3215 - accuracy: 0.8650 - val_loss: 0.3635 - val_accuracy: 0.8547\n",
            "Epoch 44: early stopping\n"
          ]
        }
      ]
    },
    {
      "cell_type": "code",
      "source": [
        "model_history.history.keys()"
      ],
      "metadata": {
        "colab": {
          "base_uri": "https://localhost:8080/"
        },
        "id": "PMdsUtCd6bz1",
        "outputId": "36a4c973-6a4b-41ae-f4d4-1b0332b6d7cd"
      },
      "execution_count": 27,
      "outputs": [
        {
          "output_type": "execute_result",
          "data": {
            "text/plain": [
              "dict_keys(['loss', 'accuracy', 'val_loss', 'val_accuracy'])"
            ]
          },
          "metadata": {},
          "execution_count": 27
        }
      ]
    },
    {
      "cell_type": "code",
      "source": [
        "# summarize history for accuracy\n",
        "plt.plot(model_history.history['accuracy'])\n",
        "plt.plot(model_history.history['val_accuracy'])\n",
        "plt.title('model accuracy')\n",
        "plt.ylabel('accuracy')\n",
        "plt.xlabel('epoch')\n",
        "plt.legend(['train', 'test'], loc='upper left')\n",
        "plt.show()"
      ],
      "metadata": {
        "colab": {
          "base_uri": "https://localhost:8080/",
          "height": 295
        },
        "id": "r3A-5Vic6cke",
        "outputId": "77418fbf-8643-48fe-9d92-2e180aa09cea"
      },
      "execution_count": 28,
      "outputs": [
        {
          "output_type": "display_data",
          "data": {
            "text/plain": [
              "<Figure size 432x288 with 1 Axes>"
            ],
            "image/png": "[encoded data removed]"
          },
          "metadata": {
            "needs_background": "light"
          }
        }
      ]
    },
    {
      "cell_type": "code",
      "source": [
        "# summarize history for loss\n",
        "plt.plot(model_history.history['loss'])\n",
        "plt.plot(model_history.history['val_loss'])\n",
        "plt.title('model loss')\n",
        "plt.ylabel('loss')\n",
        "plt.xlabel('epoch')\n",
        "plt.legend(['train', 'test'], loc='upper left')\n",
        "plt.show()"
      ],
      "metadata": {
        "colab": {
          "base_uri": "https://localhost:8080/",
          "height": 295
        },
        "id": "XKBpFLwS6ghu",
        "outputId": "7f329c46-9ea6-4e26-dcc7-70468955fe60"
      },
      "execution_count": 29,
      "outputs": [
        {
          "output_type": "display_data",
          "data": {
            "text/plain": [
              "<Figure size 432x288 with 1 Axes>"
            ],
            "image/png": "[encoded data removed]"
          },
          "metadata": {
            "needs_background": "light"
          }
        }
      ]
    },
    {
      "cell_type": "code",
      "source": [
        "# Part 3 - Making the predictions and evaluating the model\n",
        "\n",
        "# Predicting the Test set results\n",
        "y_pred = classifier.predict(X_test)\n",
        "y_pred = (y_pred >= 0.5)"
      ],
      "metadata": {
        "id": "CkyWqcPs6oLx"
      },
      "execution_count": 30,
      "outputs": []
    },
    {
      "cell_type": "code",
      "source": [
        "## make the confusion matrix\n",
        "from sklearn.metrics import confusion_matrix\n",
        "cm=confusion_matrix(y_test,y_pred)\n",
        "cm"
      ],
      "metadata": {
        "colab": {
          "base_uri": "https://localhost:8080/"
        },
        "id": "hEdf1Ez66xb8",
        "outputId": "cda179e2-da84-4746-fed2-38e649cd9892"
      },
      "execution_count": 31,
      "outputs": [
        {
          "output_type": "execute_result",
          "data": {
            "text/plain": [
              "array([[2317,   56],\n",
              "       [ 380,  247]])"
            ]
          },
          "metadata": {},
          "execution_count": 31
        }
      ]
    },
    {
      "cell_type": "code",
      "source": [
        "## Calculate the accuracy\n",
        "from sklearn.metrics import accuracy_score\n",
        "score=accuracy_score(y_pred,y_test)\n",
        "score"
      ],
      "metadata": {
        "colab": {
          "base_uri": "https://localhost:8080/"
        },
        "id": "jvjiZd3O60vx",
        "outputId": "f9894cd8-aa35-4139-8924-d2e1486a1257"
      },
      "execution_count": 32,
      "outputs": [
        {
          "output_type": "execute_result",
          "data": {
            "text/plain": [
              "0.8546666666666667"
            ]
          },
          "metadata": {},
          "execution_count": 32
        }
      ]
    },
    {
      "cell_type": "code",
      "source": [
        "##get the weights\n",
        "classifier.get_weights()\n"
      ],
      "metadata": {
        "id": "NMQsgIcpf7Hy",
        "colab": {
          "base_uri": "https://localhost:8080/"
        },
        "outputId": "c0042e4d-fc80-48bc-d3c2-9ffd7e92090f"
      },
      "execution_count": 33,
      "outputs": [
        {
          "output_type": "execute_result",
          "data": {
            "text/plain": [
              "[array([[ 0.18263684, -0.61026514, -0.2677948 , -0.24650112, -0.3347725 ,\n",
              "          1.3099446 , -0.23172143,  0.5081774 , -0.43233156, -0.12437559],\n",
              "        [-4.0974207 ,  1.0363681 ,  0.2765307 , -1.3911068 , -0.42537442,\n",
              "          0.7392625 ,  1.3844804 ,  2.8182185 ,  1.6599853 , -2.1371017 ],\n",
              "        [ 0.2300819 , -0.25501904,  0.42546004,  0.85192955, -0.22777475,\n",
              "         -0.35779604,  0.2156502 , -0.23712482,  1.5317855 ,  0.31711426],\n",
              "        [ 1.0812057 ,  2.6381314 ,  3.3660553 ,  0.062217  ,  1.6930871 ,\n",
              "          0.12830922, -0.60834706, -1.7218928 , -0.07490128, -4.604972  ],\n",
              "        [ 0.29538712, -0.8591084 ,  1.5547929 , -0.82045364,  3.8160677 ,\n",
              "          0.8073825 , -4.230259  , -1.0819143 , -1.3507107 ,  0.63272446],\n",
              "        [-0.6011592 ,  0.20574056, -0.17752734, -0.87470585, -0.5974635 ,\n",
              "          1.5902642 ,  0.05140235, -0.7387818 ,  1.6520302 ,  0.17493829],\n",
              "        [-0.8562724 ,  3.1126256 , -2.1431792 ,  1.4294522 , -0.57817715,\n",
              "          0.8265589 , -1.8026453 ,  1.7779979 ,  1.9165155 ,  0.02038148],\n",
              "        [ 0.18789148,  0.14172515, -1.8720945 , -1.8560733 ,  0.08757969,\n",
              "          1.2009015 , -0.07454588, -0.6737873 , -0.69495994, -0.21256275],\n",
              "        [-0.90827113, -1.9858118 ,  0.7731799 , -1.1745565 , -1.1555992 ,\n",
              "         -2.1083677 ,  0.1738978 , -0.38355473, -1.2178024 ,  2.8304873 ],\n",
              "        [-0.19499633, -0.5137725 , -0.06718943,  0.06332111,  0.28970912,\n",
              "          0.43587014,  0.6838476 , -0.06719848,  0.8319362 ,  0.32871127],\n",
              "        [ 0.11925776,  0.3187838 , -0.10104269,  2.7682374 ,  0.17364144,\n",
              "          1.209135  ,  0.43048924,  2.1130683 ,  0.6274358 ,  0.82602155]],\n",
              "       dtype=float32),\n",
              " array([ 3.781189  , -4.206936  , -1.6755785 ,  1.0907661 , -4.502335  ,\n",
              "        -1.3483603 ,  0.97282934, -3.5067    , -2.0982556 ,  0.36746532],\n",
              "       dtype=float32),\n",
              " array([[-0.80124545, -1.4900696 , -0.7083148 , -1.9941125 , -0.08342832,\n",
              "          0.32759362, -0.43039125, -0.43889198,  1.3483253 ,  0.5767185 ],\n",
              "        [-0.8620518 , -0.6195531 , -0.18417485, -3.248721  , -0.09890734,\n",
              "         -0.34258485, -0.19201171, -2.634637  , -0.24499026, -3.0943482 ],\n",
              "        [-0.21763715,  1.0454365 , -0.6376108 ,  0.15188605,  0.01324928,\n",
              "         -3.23877   , -0.24610569, -3.0278153 ,  0.1742268 ,  0.47245082],\n",
              "        [-0.0952175 , -0.88475406,  0.03305664,  0.420227  , -0.19022523,\n",
              "          1.9964561 , -0.56412107, -0.55600464, -0.66941243,  0.44730946],\n",
              "        [-0.19605854,  2.789747  , -0.2883494 ,  2.6530495 , -0.1457138 ,\n",
              "         -1.4303787 , -0.23353373, -5.161883  , -2.1978884 , -2.9534678 ],\n",
              "        [-0.01693805,  0.8671313 , -1.6356246 ,  0.84904313, -0.07483992,\n",
              "          0.73243386, -0.04316915,  0.952777  ,  0.09362557,  0.9950769 ],\n",
              "        [-0.23552535, -0.8502976 , -0.63429785,  0.9866401 , -0.4640839 ,\n",
              "         -0.37246713, -0.14675887, -1.2494566 ,  0.03323679, -4.498632  ],\n",
              "        [-1.1065032 , -2.2910056 , -1.0355126 , -0.08945833, -0.15132195,\n",
              "         -4.517568  , -0.29714158,  0.22447845,  1.3103379 ,  0.99760014],\n",
              "        [-0.4560886 , -0.960259  ,  0.11413293, -1.0560621 ,  0.01911994,\n",
              "          0.7113114 , -0.39543736, -0.75232667,  0.38178638,  0.31769812],\n",
              "        [-0.6455408 , -0.4039241 , -1.7240523 , -1.6134574 , -0.51455945,\n",
              "         -1.1668162 , -0.75455666,  1.9582403 , -3.8113637 , -0.14772178]],\n",
              "       dtype=float32),\n",
              " array([-1.1960522 , -0.01504653, -0.5997192 ,  2.7840388 , -0.20534055,\n",
              "         1.5882763 , -0.4236945 ,  0.06266833, -0.90366507,  0.7687863 ],\n",
              "       dtype=float32),\n",
              " array([[-1.0702648e-01,  1.9922197e-01, -1.6873209e-01,  2.2500437e-01,\n",
              "         -1.9575550e-01,  2.2756936e-01, -4.1260242e-01,  9.5962912e-01,\n",
              "          1.2951554e-01,  1.6024542e-01],\n",
              "        [-1.8601794e-02, -2.0928471e-01, -1.5396109e-01,  5.9775833e-02,\n",
              "         -5.5297607e-01, -7.4150443e-01,  1.0993642e-02, -6.4232212e-01,\n",
              "          8.7913972e-01, -9.6925370e-02],\n",
              "        [ 3.7418440e-02,  1.9742085e-01,  1.7377573e-01,  1.7599747e-01,\n",
              "         -1.8328437e-01, -1.8530756e-01, -2.3235780e-01,  1.1607251e-02,\n",
              "         -3.2162231e-01, -1.3846025e-01],\n",
              "        [-4.5664942e-01, -3.8247579e-01, -5.8292758e-01, -6.8330467e-02,\n",
              "         -1.2544606e+00, -2.7794795e-02, -5.2258786e-04, -3.8122496e-01,\n",
              "          6.8770075e-01, -3.3273411e-01],\n",
              "        [ 2.2577912e-01, -9.9317357e-02, -5.0623232e-01, -4.3338457e-01,\n",
              "         -2.4604441e-01, -1.1338098e-01,  2.1194161e-01, -1.0546573e-01,\n",
              "         -3.2178721e-01, -8.2469612e-02],\n",
              "        [-2.4498793e-01,  7.2324485e-02, -3.2340497e-01, -5.5387032e-01,\n",
              "          4.3548569e-01, -9.5719737e-01, -5.4574859e-01, -8.6987764e-03,\n",
              "         -1.3139043e+00, -3.0609134e-01],\n",
              "        [ 1.5969023e-01, -9.8602273e-02, -2.0565033e-02,  6.3761556e-01,\n",
              "         -1.1295669e-01, -4.7884473e-01, -1.9713277e-01,  1.7467396e-01,\n",
              "          7.6780580e-02,  3.7001929e-01],\n",
              "        [-8.6496724e-03, -9.8115581e-01, -3.1164581e-01, -5.1025242e-01,\n",
              "          9.8020744e-01, -3.0888146e-02, -6.1346114e-01, -6.0913634e-01,\n",
              "         -9.1458970e-01, -1.4605807e-03],\n",
              "        [-2.3285854e-01, -1.8401818e+00, -4.5949635e-01, -4.1397488e-01,\n",
              "          4.3628445e-01, -3.0128264e-01, -7.4342024e-01, -1.4971100e-01,\n",
              "         -2.9541808e-01, -2.7480394e-01],\n",
              "        [-1.7625147e-01,  9.3986027e-02, -5.0537783e-01, -1.0957298e+00,\n",
              "          6.0383272e-01, -5.9288520e-01, -6.0412776e-01,  1.6959019e-02,\n",
              "         -1.2041428e+00, -4.1046053e-01]], dtype=float32),\n",
              " array([-0.15638645, -2.577541  , -0.34427604, -1.7765654 , -0.05811496,\n",
              "        -0.9976241 , -0.6346822 , -0.52519506,  0.6549555 , -0.33552527],\n",
              "       dtype=float32),\n",
              " array([[ 0.11075686],\n",
              "        [ 0.02375915],\n",
              "        [-0.20782284],\n",
              "        [ 0.17515714],\n",
              "        [-0.2799662 ],\n",
              "        [ 0.04186192],\n",
              "        [-0.04513564],\n",
              "        [ 0.01209334],\n",
              "        [ 0.24313386],\n",
              "        [ 0.03348798]], dtype=float32),\n",
              " array([-0.8456474], dtype=float32)]"
            ]
          },
          "metadata": {},
          "execution_count": 33
        }
      ]
    },
    {
      "cell_type": "code",
      "source": [
        "## Saving h5 file\n",
        "classifier.save('model.h5')"
      ],
      "metadata": {
        "id": "TIPzB8ZC34JB"
      },
      "execution_count": 34,
      "outputs": []
    },
    {
      "cell_type": "code",
      "source": [
        "##laoding h5 file\n",
        "from tensorflow import keras\n",
        "classifier1=keras.models.load_model('model.h5')"
      ],
      "metadata": {
        "id": "DPDJc0Le34MB"
      },
      "execution_count": 35,
      "outputs": []
    },
    {
      "cell_type": "code",
      "source": [
        "classifier1.predict(X_test)"
      ],
      "metadata": {
        "colab": {
          "base_uri": "https://localhost:8080/"
        },
        "id": "zA10CU_y34SA",
        "outputId": "9c485d2e-4b19-4832-eeef-383ba0929b6d"
      },
      "execution_count": 36,
      "outputs": [
        {
          "output_type": "execute_result",
          "data": {
            "text/plain": [
              "array([[0.00102277],\n",
              "       [0.01197387],\n",
              "       [0.02628855],\n",
              "       ...,\n",
              "       [0.9152819 ],\n",
              "       [0.13511783],\n",
              "       [0.1111359 ]], dtype=float32)"
            ]
          },
          "metadata": {},
          "execution_count": 36
        }
      ]
    }
  ]
}